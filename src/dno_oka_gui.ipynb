{
 "cells": [
  {
   "cell_type": "code",
   "execution_count": 1,
   "metadata": {},
   "outputs": [],
   "source": [
    "from ImgReader import *\n",
    "from ImgMachineLearning import *\n",
    "from ImgProcessor import *\n",
    "import matplotlib.pyplot as plt\n",
    "import skimage.io as io\n",
    "import skimage.exposure as exposure\n",
    "from ipywidgets import interact, interactive, fixed, interact_manual\n",
    "import ipywidgets as widgets\n",
    "import os\n",
    "from imblearn import metrics"
   ]
  },
  {
   "cell_type": "markdown",
   "metadata": {},
   "source": [
    "### Zmienne pomocnicze"
   ]
  },
  {
   "cell_type": "code",
   "execution_count": 2,
   "metadata": {
    "scrolled": true
   },
   "outputs": [
    {
     "name": "stderr",
     "output_type": "stream",
     "text": [
      "/home/scypio/.local/lib/python3.8/site-packages/sklearn/base.py:310: UserWarning: Trying to unpickle estimator DecisionTreeClassifier from version 0.24.0 when using version 0.24.2. This might lead to breaking code or invalid results. Use at your own risk.\n",
      "  warnings.warn(\n"
     ]
    }
   ],
   "source": [
    "reader = ImgReader()\n",
    "\n",
    "processor = ImgProcessor(reader)\n",
    "ml_classifier = ImgMachineLearning(reader)\n",
    "ml_classifier.load_classifier('tree.model', '../models/')\n",
    "\n",
    "def get_files_list():\n",
    "    lst = []\n",
    "    for file in os.listdir(\"../img/images\"):\n",
    "        if file.endswith(\".jpg\") or file.endswith(\".JPG\"):\n",
    "            lst.append(file[:-4])\n",
    "\n",
    "    return lst\n",
    "\n",
    "def read_img(filename: str):\n",
    "    reader.load_image(filename, '../img/')\n",
    "    io.imshow(reader.get_img())\n",
    "    plt.show()\n",
    "    io.imshow(reader.get_standard())\n",
    "    \n",
    "def process(method:str):\n",
    "    if method == 'tradycyjne' or method == 'wszystkie - porównanie':\n",
    "        print(\"Tradycyjne przetwarzanie obrazu: \")\n",
    "        processor.process()\n",
    "        processor.show_img()\n",
    "        processor.show_metrics()\n",
    "    \n",
    "    if method == 'uczenie maszynowe' or method == 'wszystkie - porównanie':\n",
    "        print(\"Tradycyjne uczenie maszynowe:\")\n",
    "        img = ml_classifier.classify()\n",
    "        io.imshow(exposure.rescale_intensity(img, out_range=(0.0, 1.0)))\n",
    "        plt.show()\n",
    "        std = reader.get_standard()\n",
    "        \n",
    "        print(metrics.classification_report_imbalanced(std.flatten(), img.flatten()))"
   ]
  },
  {
   "cell_type": "markdown",
   "metadata": {},
   "source": [
    "## Wybór obrazu"
   ]
  },
  {
   "cell_type": "code",
   "execution_count": 3,
   "metadata": {},
   "outputs": [
    {
     "data": {
      "application/vnd.jupyter.widget-view+json": {
       "model_id": "028022576b1640288f997347b0e471e7",
       "version_major": 2,
       "version_minor": 0
      },
      "text/plain": [
       "interactive(children=(Dropdown(description='filename', options=('09_h', '06_h', '06_dr', '08_dr', '14_dr', '06…"
      ]
     },
     "metadata": {},
     "output_type": "display_data"
    },
    {
     "data": {
      "text/plain": [
       "<function __main__.read_img(filename: str)>"
      ]
     },
     "execution_count": 3,
     "metadata": {},
     "output_type": "execute_result"
    }
   ],
   "source": [
    "files_list = get_files_list()\n",
    "interact(read_img, filename= files_list)"
   ]
  },
  {
   "cell_type": "markdown",
   "metadata": {},
   "source": [
    "## Wybór metody analizy obrazu"
   ]
  },
  {
   "cell_type": "code",
   "execution_count": 4,
   "metadata": {},
   "outputs": [
    {
     "data": {
      "application/vnd.jupyter.widget-view+json": {
       "model_id": "592f90df0b5346edaf8028cff2fd59db",
       "version_major": 2,
       "version_minor": 0
      },
      "text/plain": [
       "interactive(children=(Dropdown(description='method', options=('tradycyjne', 'uczenie maszynowe', 'wszystkie - …"
      ]
     },
     "metadata": {},
     "output_type": "display_data"
    },
    {
     "data": {
      "text/plain": [
       "<function __main__.process(method: str)>"
      ]
     },
     "execution_count": 4,
     "metadata": {},
     "output_type": "execute_result"
    }
   ],
   "source": [
    "interact_manual(process, method=['tradycyjne', 'uczenie maszynowe', 'wszystkie - porównanie'])"
   ]
  }
 ],
 "metadata": {
  "kernelspec": {
   "display_name": "Python 3",
   "language": "python",
   "name": "python3"
  },
  "language_info": {
   "codemirror_mode": {
    "name": "ipython",
    "version": 3
   },
   "file_extension": ".py",
   "mimetype": "text/x-python",
   "name": "python",
   "nbconvert_exporter": "python",
   "pygments_lexer": "ipython3",
   "version": "3.8.7"
  }
 },
 "nbformat": 4,
 "nbformat_minor": 4
}
